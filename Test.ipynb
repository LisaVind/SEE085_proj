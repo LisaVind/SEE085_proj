{
 "cells": [
  {
   "cell_type": "code",
   "execution_count": 1,
   "metadata": {},
   "outputs": [],
   "source": [
    "import numpy as np\n",
    "import matplotlib.pyplot as plt"
   ]
  },
  {
   "cell_type": "code",
   "execution_count": 58,
   "metadata": {},
   "outputs": [],
   "source": [
    "data = np.loadtxt(\"C:/Users/Mills/Downloads/Linear_algebra/vattenuttag.txt\")\n",
    "x_data = data[:, 2] # [:, 0] om årtal istället för år efter 1970\n",
    "y_data = data[:, 1]"
   ]
  },
  {
   "cell_type": "code",
   "execution_count": 59,
   "metadata": {},
   "outputs": [
    {
     "name": "stdout",
     "output_type": "stream",
     "text": [
      "4085605734.265749 89356175.60217272 -16923191.188810978 604157.3954933897 -6455.5766899766395\n"
     ]
    }
   ],
   "source": [
    "fit_coeffs = np.polyfit( x_data , y_data , 4) # fjärde-gradens-polynom-anpassning \n",
    "a = fit_coeffs [4]\n",
    "b = fit_coeffs [3]\n",
    "c = fit_coeffs [2]\n",
    "d = fit_coeffs [1]\n",
    "e = fit_coeffs [0]\n",
    "\n",
    "print(a, b, c, d, e)"
   ]
  },
  {
   "cell_type": "code",
   "execution_count": null,
   "metadata": {},
   "outputs": [],
   "source": []
  }
 ],
 "metadata": {
  "kernelspec": {
   "display_name": "Python 3",
   "language": "python",
   "name": "python3"
  },
  "language_info": {
   "codemirror_mode": {
    "name": "ipython",
    "version": 3
   },
   "file_extension": ".py",
   "mimetype": "text/x-python",
   "name": "python",
   "nbconvert_exporter": "python",
   "pygments_lexer": "ipython3",
   "version": "3.8.3"
  }
 },
 "nbformat": 4,
 "nbformat_minor": 4
}
